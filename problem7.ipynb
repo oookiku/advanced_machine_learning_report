{
 "cells": [
  {
   "cell_type": "markdown",
   "metadata": {},
   "source": [
    "# Problem 7\n",
    "## 20M10293 Daisuke Kikuta"
   ]
  },
  {
   "cell_type": "code",
   "execution_count": 1,
   "metadata": {},
   "outputs": [],
   "source": [
    "import numpy as np\n",
    "import matplotlib.pyplot as plt\n",
    "%matplotlib inline"
   ]
  },
  {
   "cell_type": "markdown",
   "metadata": {},
   "source": [
    "## Datasets"
   ]
  },
  {
   "cell_type": "code",
   "execution_count": 2,
   "metadata": {},
   "outputs": [],
   "source": [
    "A = np.array([[200, 10],\n",
    "              [10,  4.]])\n",
    "\n",
    "mu = np.array([[1],\n",
    "               [2]])\n",
    "\n",
    "def grad(w, A, mu):\n",
    "    return np.dot(A, w - mu)\n",
    "\n",
    "def soft_threshold(x, q):\n",
    "    res = np.zeros(x.shape)\n",
    "\n",
    "    for i in range(len(x)):\n",
    "        if   x[i] >  q:\n",
    "            res[i] = x[i] - q\n",
    "        elif x[i] < -q:\n",
    "            res[i] = x[i] + q\n",
    "        else:\n",
    "            res[i] = 0.\n",
    "\n",
    "    return res\n",
    "\n",
    "def loss(w, A, mu, hp):\n",
    "    x = w - mu\n",
    "    return np.dot(x.T, np.dot(A, x)) + hp*np.sum(np.abs(w))"
   ]
  },
  {
   "cell_type": "code",
   "execution_count": 3,
   "metadata": {},
   "outputs": [],
   "source": [
    "#\n",
    "# global settings\n",
    "#\n",
    "itr = 300\n",
    "eps = 1e-8\n",
    "hp  = 0.1\n",
    "\n",
    "la, v = np.linalg.eigh(A)\n",
    "L     = np.max(la) # lipschitz constant\n",
    "\n",
    "w0 = np.zeros(2).reshape(2, 1)\n",
    "\n",
    "size  = len(w0)\n",
    "init_array = np.zeros(size).reshape(size, 1)"
   ]
  },
  {
   "cell_type": "markdown",
   "metadata": {},
   "source": [
    "## AdaGrad\n",
    "Reference: http://jmlr.org/papers/volume12/duchi11a/duchi11a.pdf"
   ]
  },
  {
   "cell_type": "code",
   "execution_count": 4,
   "metadata": {},
   "outputs": [],
   "source": [
    "#\n",
    "# parameters\n",
    "#\n",
    "alpha = 0.001\n",
    "\n",
    "w = w0\n",
    "\n",
    "loss_adagrad_history = []\n",
    "\n",
    "for t in range(1, itr+1):\n",
    "    loss_adagrad_history.append(np.float64(loss(w, A, mu, hp)))\n",
    "\n",
    "    g = grad(w, A, mu)\n",
    "\n",
    "    w_tmp = w - alpha/np.sqrt(np.power(g, 2) + eps)*g\n",
    "    w = soft_threshold(w_tmp, hp/L)"
   ]
  },
  {
   "cell_type": "markdown",
   "metadata": {},
   "source": [
    "## Adam\n",
    "Reference: https://arxiv.org/pdf/1412.6980.pdf"
   ]
  },
  {
   "cell_type": "code",
   "execution_count": 5,
   "metadata": {},
   "outputs": [],
   "source": [
    "#\n",
    "# parameters\n",
    "#\n",
    "beta1 = 0.9\n",
    "beta2 = 0.999\n",
    "eta   = 0.001\n",
    "\n",
    "w     = w0\n",
    "size  = len(w)\n",
    "m     = init_array\n",
    "v     = init_array\n",
    "\n",
    "loss_adam_history = []\n",
    "\n",
    "for t in range(1, itr+1):\n",
    "    loss_adam_history.append(np.float64(loss(w, A, mu, hp)))\n",
    "\n",
    "    g = grad(w, A, mu)\n",
    "    m = beta1*m + (1 - beta1)*g\n",
    "    v = beta2*v + (1 - beta2)*np.power(g, 2)\n",
    "    m_hat = m/(1 - np.power(beta1, t))\n",
    "    v_hat = v/(1 - np.power(beta2, t)) \n",
    "\n",
    "    w_tmp = w - eta/(np.sqrt(v_hat + eps))*m_hat\n",
    "    w = soft_threshold(w_tmp, hp/L)"
   ]
  },
  {
   "cell_type": "markdown",
   "metadata": {},
   "source": [
    "## AdaMax\n",
    "Reference: https://arxiv.org/pdf/1412.6980.pdf"
   ]
  },
  {
   "cell_type": "code",
   "execution_count": 6,
   "metadata": {},
   "outputs": [],
   "source": [
    "#\n",
    "# parameters\n",
    "#\n",
    "beta1 = 0.9\n",
    "beta2 = 0.999\n",
    "alpha = 0.001\n",
    "\n",
    "w     = w0\n",
    "m     = init_array\n",
    "u     = init_array\n",
    "\n",
    "loss_adamax_history = []\n",
    "\n",
    "for t in range(1, itr+1):\n",
    "    loss_adamax_history.append(np.float64(loss(w, A, mu, hp)))\n",
    "\n",
    "    g = grad(w, A, mu)\n",
    "    m = beta1*m + (1 - beta1)*g\n",
    "    u = np.maximum(beta2*u, np.abs(g))\n",
    "\n",
    "    w_tmp = w - alpha/(1 - np.power(beta1, t))*m/u\n",
    "\n",
    "    w = soft_threshold(w_tmp, hp/L)"
   ]
  },
  {
   "cell_type": "markdown",
   "metadata": {},
   "source": [
    "## Nadam\n",
    "Reference: https://openreview.net/pdf?id=OM0jvwB8jIp57ZJjtNEZ"
   ]
  },
  {
   "cell_type": "code",
   "execution_count": 7,
   "metadata": {},
   "outputs": [],
   "source": [
    "#\n",
    "# parameters\n",
    "#\n",
    "beta1 = 0.9\n",
    "beta2 = 0.999\n",
    "alpha = 0.001\n",
    "\n",
    "w     = w0\n",
    "m     = init_array\n",
    "n     = init_array\n",
    "m_hat = init_array\n",
    "\n",
    "loss_nadam_history = []\n",
    "\n",
    "for t in range(1, itr+1):\n",
    "    loss_nadam_history.append(np.float64(loss(w, A, mu, hp)))\n",
    "\n",
    "    g = grad(w, A , mu)\n",
    "    m = beta1*m + (1 - beta1)*g\n",
    "    n = beta2*v + (1 - beta2)*np.power(g, 2)\n",
    "    m_hat = beta1*m/(1 - np.power(beta1, t)) + (1-beta1)*g/(1-np.power(beta1, t))\n",
    "    n_hat = beta2*n/(1 - np.power(beta2, t))\n",
    "        \n",
    "    w_tmp = w - alpha*m_hat/(np.sqrt(n_hat + eps))\n",
    "    w = soft_threshold(w_tmp, hp/L)"
   ]
  },
  {
   "cell_type": "markdown",
   "metadata": {},
   "source": [
    "## AMSGrad\n",
    "Reference: http://www.satyenkale.com/papers/amsgrad.pdf"
   ]
  },
  {
   "cell_type": "code",
   "execution_count": 8,
   "metadata": {},
   "outputs": [],
   "source": [
    "#\n",
    "# parameters\n",
    "#\n",
    "beta1 = 0.9\n",
    "beta2 = 0.999\n",
    "alpha = 0.001\n",
    "\n",
    "w     = w0\n",
    "m     = init_array\n",
    "v     = init_array\n",
    "v_hat = init_array\n",
    "\n",
    "loss_amsgrad_history = []\n",
    "\n",
    "for t in range(1, itr+1):\n",
    "    loss_amsgrad_history.append(np.float64(loss(w, A, mu, hp)))\n",
    "    \n",
    "    g = grad(w, A, mu)\n",
    "    m = beta1*m + (1 - beta1)*g\n",
    "    v = beta2*v + (1 - beta2)*np.power(g, 2)\n",
    "    v_hat = np.maximum(v_hat, v)\n",
    "\n",
    "    w_tmp = w - alpha*m/(np.sqrt(v_hat + eps))\n",
    "    w = soft_threshold(w_tmp, hp/L)"
   ]
  },
  {
   "cell_type": "code",
   "execution_count": 9,
   "metadata": {},
   "outputs": [
    {
     "data": {
      "image/png": "[encoded data removed]",
      "text/plain": [
       "<Figure size 432x288 with 1 Axes>"
      ]
     },
     "metadata": {
      "needs_background": "light"
     },
     "output_type": "display_data"
    }
   ],
   "source": [
    "base = min(min(loss_amsgrad_history), min(loss_nadam_history))\n",
    "\n",
    "show_itr = 200\n",
    "\n",
    "plt.plot(np.abs(loss_adagrad_history[:show_itr] - base), \"bo-\", linewidth=0.5, markersize=1, label='adagrad')\n",
    "plt.plot(np.abs(loss_adam_history[:show_itr] - base),    \"r,-\", linewidth=0.5, markersize=1, label='adam')\n",
    "plt.plot(np.abs(loss_adamax_history[:show_itr] - base),  \"g8-\", linewidth=0.5, markersize=1, label='adamax')\n",
    "plt.plot(np.abs(loss_nadam_history[:show_itr] - base),   \"kp-\", linewidth=0.5, markersize=1, label='nadam')\n",
    "plt.plot(np.abs(loss_amsgrad_history[:show_itr] - base), \"c*-\", linewidth=0.5, markersize=1, label='amsgrad')\n",
    "\n",
    "plt.legend()\n",
    "plt.yscale(\"log\")\n",
    "plt.xlabel(\"Number of iteration\")\n",
    "plt.ylabel(\"| J(w) - J(w_opt)|\")\n",
    "plt.savefig('adaptive_grad.png')"
   ]
  }
 ],
 "metadata": {
  "kernelspec": {
   "display_name": "Python 3",
   "language": "python",
   "name": "python3"
  },
  "language_info": {
   "codemirror_mode": {
    "name": "ipython",
    "version": 3
   },
   "file_extension": ".py",
   "mimetype": "text/x-python",
   "name": "python",
   "nbconvert_exporter": "python",
   "pygments_lexer": "ipython3",
   "version": "3.7.7"
  }
 },
 "nbformat": 4,
 "nbformat_minor": 4
}
