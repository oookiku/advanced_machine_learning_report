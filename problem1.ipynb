{
 "cells": [
  {
   "cell_type": "markdown",
   "metadata": {},
   "source": [
    "## Problem 2"
   ]
  },
  {
   "cell_type": "code",
   "execution_count": 3,
   "metadata": {},
   "outputs": [],
   "source": [
    "import numpy as np\n",
    "import matplotlib.pyplot as plt\n",
    "%matplotlib inline"
   ]
  },
  {
   "cell_type": "markdown",
   "metadata": {},
   "source": [
    "## Dataset IV"
   ]
  },
  {
   "cell_type": "code",
   "execution_count": 145,
   "metadata": {},
   "outputs": [],
   "source": [
    "n = 100\n",
    "x_d4 = 3 * (np.random.rand(n, 4) - 0.5)\n",
    "y_d4 = (2 * x_d4[:, 0] - 1 * x_d4[:,1] + 0.5 + 0.5 * np.random.randn(n)) > 0\n",
    "y_d4 = 2 * y_d4 - 1"
   ]
  },
  {
   "cell_type": "markdown",
   "metadata": {},
   "source": [
    "## Batch steepest gradient method"
   ]
  },
  {
   "cell_type": "code",
   "execution_count": 275,
   "metadata": {},
   "outputs": [],
   "source": [
    "hp  = 0.2   # hyper parameter: lambda\n",
    "itr = 50 # number of iteration\n",
    "\n",
    "la, v = np.linalg.eigh(np.dot(x_d4.T, x_d4) + 8*hp*np.eye(4))\n",
    "L = 0.25*np.max(la) # lipschitz constant\n",
    "\n",
    "w = np.ones(3)\n",
    "\n",
    "loss_sgm_history = []\n",
    "w_sgm_history = []\n",
    "loss = 0.\n",
    "\n",
    "for t in range (1, itr+1):\n",
    "    exp_t = 1 + np.exp(-y_d4 * (np.dot(w, x_d4[:,:-1].T) + x_d4[:,-1]))\n",
    "    posterior = 1 / exp_t\n",
    "    grad = 1 / n * np.sum(x_d4[:,:-1].T * y_d4 * (1 - posterior)) + 2 * hp * w\n",
    "    loss = 1 / n * np.sum(np.log(exp_t)) + hp * (np.dot(w.T, w) + 1)\n",
    "    w_sgm_history.append(w)\n",
    "    loss_sgm_history.append(loss)\n",
    "    w = w - 1 / L * grad"
   ]
  },
  {
   "cell_type": "code",
   "execution_count": 273,
   "metadata": {},
   "outputs": [
    {
     "data": {
      "text/plain": [
       "Text(0, 0.5, 'diff from the gold weight')"
      ]
     },
     "execution_count": 273,
     "metadata": {},
     "output_type": "execute_result"
    },
    {
     "data": {
      "image/png": "[encoded data removed]",
      "text/plain": [
       "<Figure size 432x288 with 1 Axes>"
      ]
     },
     "metadata": {
      "needs_background": "light"
     },
     "output_type": "display_data"
    }
   ],
   "source": [
    "plt.plot(np.abs(np.array(loss_sgm_history) - loss), 'bo-', linewidth=0.5, markersize=1, label='seepest')\n",
    "plt.legend()\n",
    "plt.yscale('log')\n",
    "plt.xlabel('Number of iteration')\n",
    "plt.ylabel('diff from the gold weight')"
   ]
  },
  {
   "cell_type": "markdown",
   "metadata": {},
   "source": [
    "## Newton based method"
   ]
  },
  {
   "cell_type": "code",
   "execution_count": null,
   "metadata": {},
   "outputs": [],
   "source": []
  },
  {
   "cell_type": "markdown",
   "metadata": {},
   "source": []
  }
 ],
 "metadata": {
  "kernelspec": {
   "display_name": "Python 3",
   "language": "python",
   "name": "python3"
  },
  "language_info": {
   "codemirror_mode": {
    "name": "ipython",
    "version": 3
   },
   "file_extension": ".py",
   "mimetype": "text/x-python",
   "name": "python",
   "nbconvert_exporter": "python",
   "pygments_lexer": "ipython3",
   "version": "3.7.7"
  }
 },
 "nbformat": 4,
 "nbformat_minor": 4
}
