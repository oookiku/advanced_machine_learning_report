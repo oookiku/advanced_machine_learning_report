{
 "cells": [
  {
   "cell_type": "markdown",
   "metadata": {},
   "source": [
    "# Problem 1\n",
    "## 20M10293 Daisuke Kikuta"
   ]
  },
  {
   "cell_type": "code",
   "execution_count": 1,
   "metadata": {},
   "outputs": [],
   "source": [
    "import numpy as np\n",
    "import matplotlib.pyplot as plt\n",
    "%matplotlib inline"
   ]
  },
  {
   "cell_type": "code",
   "execution_count": 2,
   "metadata": {},
   "outputs": [],
   "source": [
    "#------------#\n",
    "# Dataset IV #\n",
    "#------------#\n",
    "\n",
    "n = 200\n",
    "x_d4 = 3*(np.random.rand(n, 4) - 0.5)\n",
    "y_d4 = (2*x_d4[:, 0] - 1*x_d4[:,1] + 0.5 + 0.5*np.random.randn(n)) > 0\n",
    "y_d4 = 2*y_d4 - 1\n",
    "\n",
    "# shaping data\n",
    "y_d4 = y_d4.reshape((200, 1))\n",
    "x_d4 = np.hstack([x_d4, np.ones((n, 1))])"
   ]
  },
  {
   "cell_type": "code",
   "execution_count": 3,
   "metadata": {},
   "outputs": [],
   "source": [
    "#------------#\n",
    "# parameters #\n",
    "#------------#\n",
    "\n",
    "hp  = 0.5  # hyper parameter: lambda\n",
    "itr = 300  # number of iteration\n",
    "\n",
    "la, v = np.linalg.eigh(np.dot(x_d4.T, x_d4) + 8*hp*np.eye(5))\n",
    "L = 0.25*np.max(la) # lipschitz constant"
   ]
  },
  {
   "cell_type": "markdown",
   "metadata": {},
   "source": [
    "## 1. Batch steepest gradient method"
   ]
  },
  {
   "cell_type": "code",
   "execution_count": 4,
   "metadata": {},
   "outputs": [],
   "source": [
    "w = np.zeros(5).reshape(5, 1)\n",
    "\n",
    "loss_sgm_history = []\n",
    "w_sgm_history = []\n",
    "loss = 0.\n",
    "\n",
    "for t in range (1, itr + 1):\n",
    "    exp_t = 1 + np.exp(-y_d4*(np.dot(x_d4, w)))            # dim=(200, 1)\n",
    "    p = 1/exp_t                                            # dim=(200, 1)\n",
    "\n",
    "    grad = np.dot(x_d4.T, -y_d4*(1 - p)) + 2*hp*w          # dim=(5, 1)\n",
    "    loss = np.sum(np.log(exp_t)) + hp*(np.dot(w.T, w) + 1) # dim=(1, 1)\n",
    "    \n",
    "    w_sgm_history.append(w)\n",
    "    loss_sgm_history.append(np.float64(loss))\n",
    "\n",
    "    w = w - 1/L*grad                                       # dim=(5, 1)"
   ]
  },
  {
   "cell_type": "markdown",
   "metadata": {},
   "source": [
    "## 2. Newton based method"
   ]
  },
  {
   "cell_type": "code",
   "execution_count": 5,
   "metadata": {},
   "outputs": [],
   "source": [
    "w = np.zeros(5).reshape(5, 1)\n",
    "\n",
    "loss_ntn_history = []\n",
    "w_ntn_history    = []\n",
    "loss = 0.\n",
    "\n",
    "for t in range (1, itr + 1):\n",
    "    exp_t = 1 + np.exp(-y_d4*(np.dot(x_d4, w)))            # dim=(200, 1)\n",
    "    p = 1/exp_t                                            # dim=(200, 1)\n",
    "\n",
    "    grad = np.dot(x_d4.T, -y_d4*(1 - p)) + 2*hp*w          # dim=(5, 1)\n",
    "    hess = np.dot(x_d4.T, p*(1 - p)*x_d4) + 2*hp*np.eye(5) # dim=(5, 5)\n",
    "\n",
    "    loss = np.sum(np.log(exp_t)) + hp*(np.dot(w.T, w) + 1) # dim=(1, 1)\n",
    "\n",
    "    w_ntn_history.append(w)\n",
    "    loss_ntn_history.append(np.float64(loss))\n",
    "\n",
    "    w = w - np.dot(np.linalg.inv(hess), grad)"
   ]
  },
  {
   "cell_type": "markdown",
   "metadata": {},
   "source": [
    "## 3. Comparison of the two methods"
   ]
  },
  {
   "cell_type": "code",
   "execution_count": 6,
   "metadata": {},
   "outputs": [
    {
     "data": {
      "text/plain": [
       "Text(0, 0.5, '| J(w) - J(w_opt)|')"
      ]
     },
     "execution_count": 6,
     "metadata": {},
     "output_type": "execute_result"
    },
    {
     "data": {
      "image/png": "[encoded data removed]",
      "text/plain": [
       "<Figure size 432x288 with 1 Axes>"
      ]
     },
     "metadata": {
      "needs_background": "light"
     },
     "output_type": "display_data"
    }
   ],
   "source": [
    "base = min(min(loss_sgm_history), min(loss_ntn_history))\n",
    "\n",
    "show_itr = 50\n",
    "\n",
    "plt.plot(np.abs(loss_sgm_history[:show_itr] - base), \"bo-\", linewidth=0.5, markersize=1, label='seepest')\n",
    "plt.plot(np.abs(loss_ntn_history[:show_itr] - base), \"ro-\", linewidth=0.5, markersize=1, label='newton')\n",
    "plt.legend()\n",
    "plt.yscale(\"log\")\n",
    "plt.xlabel(\"Number of iteration\")\n",
    "plt.ylabel(\"| J(w) - J(w_opt)|\")"
   ]
  },
  {
   "cell_type": "markdown",
   "metadata": {},
   "source": [
    "## Logistic Regression for multi classification "
   ]
  },
  {
   "cell_type": "markdown",
   "metadata": {},
   "source": [
    "## Dataset V"
   ]
  },
  {
   "cell_type": "code",
   "execution_count": 7,
   "metadata": {},
   "outputs": [],
   "source": [
    "#-----------#\n",
    "# dataset V #\n",
    "#-----------#\n",
    "\n",
    "n = 200\n",
    "x_d5 = 3 * (np.random.rand(n, 4) - 0.5)\n",
    "W = np.array([[ 2,  -1, 0.5,],\n",
    "              [-3,   2,   1,],\n",
    "              [ 1,   2,   3]])\n",
    "y_d5 = np.argmax(np.dot(np.hstack([x_d5[:,:2], np.ones((n, 1))]), W.T)\n",
    "                        + 0.5 * np.random.randn(n, 3), axis=1)"
   ]
  },
  {
   "cell_type": "code",
   "execution_count": 8,
   "metadata": {},
   "outputs": [],
   "source": [
    "def convert_to_oneshot(n, a):\n",
    "    return np.identity(n, dtype=np.int)[a]"
   ]
  },
  {
   "cell_type": "code",
   "execution_count": 9,
   "metadata": {},
   "outputs": [],
   "source": [
    "y_d5 = convert_to_oneshot(3, y_d5)"
   ]
  },
  {
   "cell_type": "code",
   "execution_count": null,
   "metadata": {},
   "outputs": [],
   "source": []
  },
  {
   "cell_type": "code",
   "execution_count": null,
   "metadata": {},
   "outputs": [],
   "source": []
  },
  {
   "cell_type": "code",
   "execution_count": null,
   "metadata": {},
   "outputs": [],
   "source": []
  }
 ],
 "metadata": {
  "kernelspec": {
   "display_name": "Python 3",
   "language": "python",
   "name": "python3"
  },
  "language_info": {
   "codemirror_mode": {
    "name": "ipython",
    "version": 3
   },
   "file_extension": ".py",
   "mimetype": "text/x-python",
   "name": "python",
   "nbconvert_exporter": "python",
   "pygments_lexer": "ipython3",
   "version": "3.7.7"
  }
 },
 "nbformat": 4,
 "nbformat_minor": 4
}
