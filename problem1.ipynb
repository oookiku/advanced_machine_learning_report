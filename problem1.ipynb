{
 "cells": [
  {
   "cell_type": "markdown",
   "metadata": {},
   "source": [
    "# Problem 2\n",
    "## 20M10293 Daisuke Kikuta"
   ]
  },
  {
   "cell_type": "code",
   "execution_count": 1,
   "metadata": {},
   "outputs": [],
   "source": [
    "import numpy as np\n",
    "import matplotlib.pyplot as plt\n",
    "%matplotlib inline"
   ]
  },
  {
   "cell_type": "markdown",
   "metadata": {},
   "source": [
    "## Dataset IV"
   ]
  },
  {
   "cell_type": "code",
   "execution_count": 2,
   "metadata": {},
   "outputs": [],
   "source": [
    "n = 200\n",
    "x_d4 = 3 * (np.random.rand(n, 4) - 0.5)\n",
    "y_d4 = (2 * x_d4[:, 0] - 1 * x_d4[:,1] + 0.5 + 0.5 * np.random.randn(n)) > 0\n",
    "y_d4 = 2 * y_d4 - 1\n",
    "\n",
    "y_d4 = y_d4.reshape((1, 200))"
   ]
  },
  {
   "cell_type": "markdown",
   "metadata": {},
   "source": [
    "## Parameters"
   ]
  },
  {
   "cell_type": "code",
   "execution_count": 3,
   "metadata": {},
   "outputs": [],
   "source": [
    "hp  = 0.5  # hyper parameter: lambda\n",
    "itr = 300  # number of iteration\n",
    "\n",
    "la, v = np.linalg.eigh(np.dot(x_d4[:,:-1].T, x_d4[:,:-1]) + 8*hp*np.eye(3))\n",
    "L = 0.25*np.max(la) # lipschitz constant"
   ]
  },
  {
   "cell_type": "markdown",
   "metadata": {},
   "source": [
    "## 1. Batch steepest gradient method"
   ]
  },
  {
   "cell_type": "code",
   "execution_count": 4,
   "metadata": {},
   "outputs": [],
   "source": [
    "w = np.zeros(3)\n",
    "w = w.reshape(1,3)\n",
    "\n",
    "loss_sgm_history = []\n",
    "w_sgm_history = []\n",
    "loss = 0.\n",
    "\n",
    "for t in range (1, itr+1):\n",
    "    exp_t = 1 + np.exp(-y_d4.T * (np.dot(x_d4[:,:-1], w.T) + x_d4[:,-1].reshape((200, 1)))) # dim=(200, 1)\n",
    "    p = 1 / exp_t # dim=(200, 1)\n",
    "\n",
    "    grad = (np.dot(x_d4[:,:-1].T, -y_d4.T * (1 - p))).T + 2 * hp * w # dim=(1, 3)\n",
    "    loss = np.sum(np.log(exp_t)) + hp * (np.dot(w, w.T) + 1)         # dim=(1, 1)\n",
    "\n",
    "    w_sgm_history.append(w)\n",
    "    loss_sgm_history.append(np.float64(loss))\n",
    "\n",
    "    w = w - 1 / L * grad # dim=(1, 3)"
   ]
  },
  {
   "cell_type": "markdown",
   "metadata": {},
   "source": [
    "## 2. Newton based method"
   ]
  },
  {
   "cell_type": "code",
   "execution_count": 5,
   "metadata": {},
   "outputs": [],
   "source": [
    "w = np.zeros(3)\n",
    "w = w.reshape(1,3)\n",
    "\n",
    "loss_ntn_history = []\n",
    "w_ntn_history    = []\n",
    "loss = 0.\n",
    "\n",
    "for t in range (1, itr+1):\n",
    "    exp_t = 1 + np.exp(-y_d4.T * (np.dot(x_d4[:,:-1], w.T) + x_d4[:,-1].reshape((200, 1))))\n",
    "    p = 1 / exp_t\n",
    "\n",
    "    grad = (np.dot(x_d4[:,:-1].T, -y_d4.T * (1 - p))).T + 2 * hp * w\n",
    "    hess = np.dot(x_d4[:,:-1].T, (p * (1 - p) * x_d4[:,:-1])) + 2 * hp * np.eye(3) # dim=(3, 3)\n",
    "\n",
    "    loss = np.sum(np.log(exp_t)) + hp * (np.dot(w, w.T) + 1)\n",
    "\n",
    "    w_ntn_history.append(w)\n",
    "    loss_ntn_history.append(np.float64(loss))\n",
    "\n",
    "    w = w - np.dot(grad, np.linalg.inv(hess).T)"
   ]
  },
  {
   "cell_type": "markdown",
   "metadata": {},
   "source": [
    "## 3. Comparison of the two methods"
   ]
  },
  {
   "cell_type": "code",
   "execution_count": 6,
   "metadata": {},
   "outputs": [
    {
     "data": {
      "text/plain": [
       "Text(0, 0.5, 'diff from the gold weight')"
      ]
     },
     "execution_count": 6,
     "metadata": {},
     "output_type": "execute_result"
    },
    {
     "data": {
      "image/png": "[encoded data removed]",
      "text/plain": [
       "<Figure size 432x288 with 1 Axes>"
      ]
     },
     "metadata": {
      "needs_background": "light"
     },
     "output_type": "display_data"
    }
   ],
   "source": [
    "base = min(min(loss_sgm_history), min(loss_ntn_history))\n",
    "\n",
    "show_itr = 50\n",
    "\n",
    "plt.plot(np.abs(loss_sgm_history[:show_itr] - base), 'bo-', linewidth=0.5, markersize=1, label='seepest')\n",
    "plt.plot(np.abs(loss_ntn_history[:show_itr] - base), 'ro-', linewidth=0.5, markersize=1, label='newton')\n",
    "plt.legend()\n",
    "plt.yscale('log')\n",
    "plt.xlabel('Number of iteration')\n",
    "plt.ylabel('diff from the gold weight')"
   ]
  },
  {
   "cell_type": "markdown",
   "metadata": {},
   "source": [
    "## 4. "
   ]
  },
  {
   "cell_type": "markdown",
   "metadata": {},
   "source": []
  }
 ],
 "metadata": {
  "kernelspec": {
   "display_name": "Python 3",
   "language": "python",
   "name": "python3"
  },
  "language_info": {
   "codemirror_mode": {
    "name": "ipython",
    "version": 3
   },
   "file_extension": ".py",
   "mimetype": "text/x-python",
   "name": "python",
   "nbconvert_exporter": "python",
   "pygments_lexer": "ipython3",
   "version": "3.7.7"
  }
 },
 "nbformat": 4,
 "nbformat_minor": 4
}
