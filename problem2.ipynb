{
 "cells": [
  {
   "cell_type": "markdown",
   "metadata": {},
   "source": [
    "# Problem2\n",
    "## 20M10293 Daisuke Kikuta"
   ]
  },
  {
   "cell_type": "code",
   "execution_count": 1,
   "metadata": {},
   "outputs": [],
   "source": [
    "import numpy as np\n",
    "import matplotlib.pyplot as plt\n",
    "%matplotlib inline"
   ]
  },
  {
   "cell_type": "code",
   "execution_count": 2,
   "metadata": {},
   "outputs": [],
   "source": [
    "def soft_thresholding(x, q):\n",
    "    if   x > q:\n",
    "        return x - q\n",
    "    elif x < -q:\n",
    "        return x + q\n",
    "    else:\n",
    "        return 0\n",
    "\n",
    "def grad(A,w,mu):\n",
    "    return 2*np.dot((w-mu), A.T)"
   ]
  },
  {
   "cell_type": "code",
   "execution_count": 3,
   "metadata": {},
   "outputs": [
    {
     "name": "stdout",
     "output_type": "stream",
     "text": [
      "lamda=2 optimal weights:  [[0.81818182 1.09090909]]\n",
      "lamda=4 optimal weights:  [[0.63636364 0.18181818]]\n",
      "lamda=6 optimal weights:  [[0.33333333 0.        ]]\n"
     ]
    }
   ],
   "source": [
    "itr = 300\n",
    "\n",
    "A   = np.array([[3., 0.5],\n",
    "                [0.5, 1.]])\n",
    "\n",
    "mu  = np.array([[1., 2.]])\n",
    "\n",
    "hp_list = {\"lamda=2\" : 2, \n",
    "           \"lamda=4\" : 4, \n",
    "           \"lamda=6\" : 6}\n",
    "\n",
    "L = 4 + 3*np.sqrt(3) # Lipsitz constant\n",
    "\n",
    "w0_history_tmp = []\n",
    "w1_history_tmp = []\n",
    "w0_history = {}\n",
    "w1_history = {}\n",
    "\n",
    "for k, hp in hp_list.items():\n",
    "    w = np.array([[3, -1]])\n",
    "    for t in range(1, itr):\n",
    "        w = w - 1/L*grad(A, w, mu)\n",
    "\n",
    "        w[0, 0] = soft_thresholding(w[0, 0], hp/L)\n",
    "        w[0, 1] = soft_thresholding(w[0, 1], hp/L)\n",
    "\n",
    "        w0_history_tmp.append(w[0, 0])\n",
    "        w1_history_tmp.append(w[0, 1])\n",
    "\n",
    "    print(k, \"optimal weights: \", w)\n",
    "    w0_history[k]  = w0_history_tmp\n",
    "    w1_history[k]  = w1_history_tmp\n",
    "    w0_history_tmp = []\n",
    "    w1_history_tmp = []"
   ]
  },
  {
   "cell_type": "code",
   "execution_count": 4,
   "metadata": {},
   "outputs": [
    {
     "data": {
      "text/plain": [
       "Text(0, 0.5, '|| w - w_opt ||')"
      ]
     },
     "execution_count": 4,
     "metadata": {},
     "output_type": "execute_result"
    },
    {
     "data": {
      "image/png": "[encoded data removed]",
      "text/plain": [
       "<Figure size 432x288 with 1 Axes>"
      ]
     },
     "metadata": {
      "needs_background": "light"
     },
     "output_type": "display_data"
    }
   ],
   "source": [
    "show_itr = 50\n",
    "\n",
    "color = [\"bo-\",\n",
    "         \"ro-\",\n",
    "         \"go-\"]\n",
    "\n",
    "c = 0\n",
    "for k, hp in hp_list.items():\n",
    "    w0_opt = np.abs(w0_history[k][-1])\n",
    "    w1_opt = np.abs(w1_history[k][-1])\n",
    "\n",
    "    l2_err = np.sqrt((w0_history[k][:show_itr] - w0_opt)**2 + \n",
    "                     (w1_history[k][:show_itr] - w1_opt)**2)\n",
    "\n",
    "    plt.plot(l2_err[:itr-1], color[c], linewidth=0.5, markersize=1, label=k)\n",
    "    plt.legend()\n",
    "    c += 1\n",
    "\n",
    "plt.yscale(\"log\")\n",
    "plt.xlabel(\"Number of iteration\")\n",
    "plt.ylabel(\"|| w - w_opt ||\")"
   ]
  },
  {
   "cell_type": "code",
   "execution_count": null,
   "metadata": {},
   "outputs": [],
   "source": []
  }
 ],
 "metadata": {
  "kernelspec": {
   "display_name": "Python 3",
   "language": "python",
   "name": "python3"
  },
  "language_info": {
   "codemirror_mode": {
    "name": "ipython",
    "version": 3
   },
   "file_extension": ".py",
   "mimetype": "text/x-python",
   "name": "python",
   "nbconvert_exporter": "python",
   "pygments_lexer": "ipython3",
   "version": "3.7.7"
  }
 },
 "nbformat": 4,
 "nbformat_minor": 4
}
